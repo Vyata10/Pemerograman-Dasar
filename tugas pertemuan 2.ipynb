{
  "nbformat": 4,
  "nbformat_minor": 0,
  "metadata": {
    "colab": {
      "provenance": [],
      "authorship_tag": "ABX9TyNsMS15G/T4cV4tXR/t0vWO",
      "include_colab_link": true
    },
    "kernelspec": {
      "name": "python3",
      "display_name": "Python 3"
    },
    "language_info": {
      "name": "python"
    }
  },
  "cells": [
    {
      "cell_type": "markdown",
      "metadata": {
        "id": "view-in-github",
        "colab_type": "text"
      },
      "source": [
        "<a href=\"https://colab.research.google.com/github/Vyata10/Pemerograman-Dasar/blob/main/tugas%20pertemuan%202.ipynb\" target=\"_parent\"><img src=\"https://colab.research.google.com/assets/colab-badge.svg\" alt=\"Open In Colab\"/></a>"
      ]
    },
    {
      "cell_type": "code",
      "execution_count": 13,
      "metadata": {
        "colab": {
          "base_uri": "https://localhost:8080/"
        },
        "id": "Nq7J9ioKi-Rq",
        "outputId": "14f14de4-e226-47b0-e082-d3f3053eb235"
      },
      "outputs": [
        {
          "output_type": "stream",
          "name": "stdout",
          "text": [
            "raymon mikhael\n",
            "silitonga\n",
            "25\n",
            "False\n"
          ]
        }
      ],
      "source": [
        "#data diri\n",
        "firstName = \"raymon mikhael\"\n",
        "lastName = \"silitonga\"\n",
        "age = 25\n",
        "isMarried = False\n",
        "\n",
        "print (firstName)\n",
        "print (lastName)\n",
        "print (age)\n",
        "print (isMarried)"
      ]
    },
    {
      "cell_type": "code",
      "source": [
        "#data diri dengan dictionary\n",
        "datadiri = {\"firstName\": \"raymon mikhael\", \"lastName\": \"silitonga\", \"age\": 25, \"isMarried\": False}\n",
        "print (datadiri)\n"
      ],
      "metadata": {
        "colab": {
          "base_uri": "https://localhost:8080/"
        },
        "id": "j8KUg_OTlP4b",
        "outputId": "2e4dce8a-2abe-413c-ecf6-ef56d6df711d"
      },
      "execution_count": 6,
      "outputs": [
        {
          "output_type": "stream",
          "name": "stdout",
          "text": [
            "{'firstName': 'raymon mikhael', 'lastName': 'silitonga', 'age': 25, 'isMarried': False}\n"
          ]
        }
      ]
    },
    {
      "cell_type": "code",
      "source": [
        "inspeksi = [\"pemahaman terhadap rencana dan desain\",\"ketersediaan bahan dan peralatan\",\"pengawasan pekerjaan\",\"kualitas konstruksi\",\"keselamatan kerja\",\"koordinasi dengan pemilik proyek\"]\n",
        "\n",
        "print (inspeksi)\n",
        "\n",
        ""
      ],
      "metadata": {
        "colab": {
          "base_uri": "https://localhost:8080/"
        },
        "id": "x8PdkdxAmHYS",
        "outputId": "c79e04d1-a6d5-423b-d608-eb6dc072ab7d"
      },
      "execution_count": 9,
      "outputs": [
        {
          "output_type": "stream",
          "name": "stdout",
          "text": [
            "['pemahaman terhadap rencana dan desain', 'ketersediaan bahan dan peralatan', 'pengawasan pekerjaan', 'kualitas konstruksi', 'keselamatan kerja', 'koordinasi dengan pemilik proyek']\n"
          ]
        }
      ]
    },
    {
      "cell_type": "code",
      "source": [
        "# Waktu datang\n",
        "startTime = {\"HH\": 9,\"mm\": 23,\"ss\": 57}\n",
        "\n",
        "# Waktu pulang\n",
        "endTime = {\"HH\": 15,\"mm\": 25,\"ss\": 43}\n",
        "\n",
        "print (startTime)\n",
        "print (endTime)"
      ],
      "metadata": {
        "colab": {
          "base_uri": "https://localhost:8080/"
        },
        "id": "_UTgr_JKp2z7",
        "outputId": "45d5cdf3-ca85-485a-845d-a2b6ede4a0e5"
      },
      "execution_count": 10,
      "outputs": [
        {
          "output_type": "stream",
          "name": "stdout",
          "text": [
            "{'HH': 9, 'mm': 23, 'ss': 57}\n",
            "{'HH': 15, 'mm': 25, 'ss': 43}\n"
          ]
        }
      ]
    },
    {
      "cell_type": "code",
      "source": [
        "# Katalog produk dari dua pemasok\n",
        "katalog_A = {\"Laptop\", \"Smartphone\", \"Tablet\", \"Headphone\"}\n",
        "katalog_B = {\"Smartwatch\", \"Tablet\", \"Laptop\", \"Kamera\"}\n",
        "\n",
        "# Daftar produk yang sedang diskon\n",
        "produk_diskon = (\"Laptop\", \"Kamera\", \"Speaker\")\n",
        "\n",
        "# 1. Gabungan katalog_A dan katalog_B\n",
        "katalog_lengkap = katalog_A.union(katalog_B)\n",
        "\n",
        "# 2. Produk yang ada di katalog_lengkap dan juga di produk_diskon\n",
        "produk_promo_aktif = katalog_lengkap.intersection(produk_diskon)\n",
        "\n",
        "print (katalog_lengkap)\n",
        "print (produk_promo_aktif)"
      ],
      "metadata": {
        "colab": {
          "base_uri": "https://localhost:8080/"
        },
        "id": "SBJPuXJ-rMp2",
        "outputId": "009f4d05-0d82-4f7c-a323-7359f7ab4821"
      },
      "execution_count": 12,
      "outputs": [
        {
          "output_type": "stream",
          "name": "stdout",
          "text": [
            "{'Laptop', 'Smartwatch', 'Headphone', 'Kamera', 'Smartphone', 'Tablet'}\n",
            "{'Kamera', 'Laptop'}\n"
          ]
        }
      ]
    }
  ]
}