{
  "nbformat": 4,
  "nbformat_minor": 0,
  "metadata": {
    "colab": {
      "provenance": [],
      "authorship_tag": "ABX9TyNZ9EZxiWkOFhBHezo7UGEx",
      "include_colab_link": true
    },
    "kernelspec": {
      "name": "python3",
      "display_name": "Python 3"
    },
    "language_info": {
      "name": "python"
    }
  },
  "cells": [
    {
      "cell_type": "markdown",
      "metadata": {
        "id": "view-in-github",
        "colab_type": "text"
      },
      "source": [
        "<a href=\"https://colab.research.google.com/github/Vyata10/Pemerograman-Dasar/blob/main/praktikum.ipynb\" target=\"_parent\"><img src=\"https://colab.research.google.com/assets/colab-badge.svg\" alt=\"Open In Colab\"/></a>"
      ]
    },
    {
      "cell_type": "code",
      "execution_count": null,
      "metadata": {
        "colab": {
          "base_uri": "https://localhost:8080/"
        },
        "id": "2TpVYvecHZ0Y",
        "outputId": "36ec143b-65d5-4d46-cbc1-228a2322b55a"
      },
      "outputs": [
        {
          "output_type": "stream",
          "name": "stdout",
          "text": [
            "berapa porsi makan yang anda beli? : 3\n",
            "siapa nama pelanggan? : boby\n",
            "3\n",
            "boby\n"
          ]
        }
      ],
      "source": [
        "# fungsi untuk menerima input sesuai data\n",
        "total = int (input (\"berapa porsi makan yang anda beli? : \"))\n",
        "Nama = str (input (\"siapa nama pelanggan? : \"))\n",
        "\n",
        "print (total)\n",
        "print (Nama)"
      ]
    },
    {
      "cell_type": "code",
      "source": [
        "# merubah program menjadi tipe data float\n",
        "total = float (input (\"berapa porsi makan yang anda beli? : \"))\n",
        "Nama = str (input (\"siapa nama pelanggan? : \"))\n",
        "\n",
        "print (total)\n",
        "print (Nama)"
      ],
      "metadata": {
        "id": "8XOKzdBuGZj3",
        "colab": {
          "base_uri": "https://localhost:8080/"
        },
        "outputId": "9cc224e3-48b9-4837-a688-b89281623ede"
      },
      "execution_count": null,
      "outputs": [
        {
          "output_type": "stream",
          "name": "stdout",
          "text": [
            "berapa porsi makan yang anda beli? : 2.5\n",
            "siapa nama pelanggan? : jokowi\n",
            "2.5\n",
            "jokowi\n"
          ]
        }
      ]
    },
    {
      "cell_type": "code",
      "source": [
        "food = \"mie ayam bakso\"\n",
        "\n",
        "print (\"hendi sedang memesan\", food)\n",
        "print (\"hendi sedang memesan \"+ food)\n",
        "print (\"hendi sedang memesan %s\" % (food))"
      ],
      "metadata": {
        "colab": {
          "base_uri": "https://localhost:8080/"
        },
        "id": "fc2e7vTttDVf",
        "outputId": "5d3c04a6-07ae-4e9d-8bdb-3f07ba921d19"
      },
      "execution_count": 7,
      "outputs": [
        {
          "output_type": "stream",
          "name": "stdout",
          "text": [
            "hendi sedang memesan mie ayam bakso\n",
            "hendi sedang memesan mie ayam bakso\n",
            "hendi sedang memesan mie ayam bakso\n"
          ]
        }
      ]
    },
    {
      "cell_type": "code",
      "source": [
        "#kalkulator sederhana\n",
        "\n",
        "a = 30\n",
        "b = 5\n",
        "\n",
        "print (\"penjumlahan\", a + b)\n",
        "print (\"pengurangan\", a - b)\n",
        "print (\"perkalian\", a * b)\n",
        "print (\"pembagian\", a / b)"
      ],
      "metadata": {
        "colab": {
          "base_uri": "https://localhost:8080/"
        },
        "id": "Y3JqTCU8vy3z",
        "outputId": "c903e9ee-5ba8-4283-f99c-78f847ef34c0"
      },
      "execution_count": null,
      "outputs": [
        {
          "output_type": "stream",
          "name": "stdout",
          "text": [
            "penjumlahan 35\n",
            "pengurangan 25\n",
            "perkalian 150\n",
            "pembagian 6.0\n"
          ]
        }
      ]
    },
    {
      "cell_type": "code",
      "source": [
        "#kalkulator kasir\n",
        "\n",
        "harga_makan = int(input(\"berapa harga mie ayam per porsi? \"))\n",
        "jumlah_makan = int (input(\"berapa porsi yang dibeli? \"))\n",
        "total_makan = harga_makan * jumlah_makan\n",
        "\n",
        "print (f\"harga makan per porsi = {harga_makan}, totalnya adalah {total_makan}\")"
      ],
      "metadata": {
        "colab": {
          "base_uri": "https://localhost:8080/"
        },
        "id": "bjTEwt5hxv5u",
        "outputId": "a5daa91a-1bd3-47db-dc2e-457f94d0369e"
      },
      "execution_count": null,
      "outputs": [
        {
          "output_type": "stream",
          "name": "stdout",
          "text": [
            "berapa harga mie ayam per porsi? 18000\n",
            "berapa porsi yang dibeli? 5\n",
            "harga makan per porsi = 18000, totalnya adalah 90000\n"
          ]
        }
      ]
    },
    {
      "cell_type": "code",
      "source": [
        "#mengecek bilangan\n",
        "\n",
        "bilangan = 10\n",
        "hasil = (bilangan > 0) and (bilangan % 2 == 0)\n",
        "print (\"genap dan positif?\", hasil)"
      ],
      "metadata": {
        "colab": {
          "base_uri": "https://localhost:8080/"
        },
        "id": "yM5IkmlszUdU",
        "outputId": "7bd8df4d-a783-450a-fa8b-e77952652932"
      },
      "execution_count": null,
      "outputs": [
        {
          "output_type": "stream",
          "name": "stdout",
          "text": [
            "genap dan positif? True\n"
          ]
        }
      ]
    },
    {
      "cell_type": "code",
      "source": [
        "#konversi waktu\n",
        "\n",
        "total_detik = int(input(\"Masukkan total_detik: \"))\n",
        "\n",
        "jam = total_detik // 3600\n",
        "sisa_detik = total_detik % 3600\n",
        "menit = sisa_detik // 60\n",
        "detik = sisa_detik % 60\n",
        "\n",
        "print (f\"hasil konversi: {jam} Jam, {menit} Menit, {detik} Detik\")"
      ],
      "metadata": {
        "colab": {
          "base_uri": "https://localhost:8080/"
        },
        "id": "1kGX4avC37cy",
        "outputId": "ae24a9e0-fe7e-4fc4-8e7b-babbbe2209aa"
      },
      "execution_count": null,
      "outputs": [
        {
          "output_type": "stream",
          "name": "stdout",
          "text": [
            "Masukkan total_detik: 358200\n",
            "hasil konversi: 99 Jam, 30 Menit, 0 Detik\n"
          ]
        }
      ]
    },
    {
      "cell_type": "code",
      "source": [
        "tugas = float(input(\"Masukkan nilai Tugas: \"))\n",
        "uts = float(input(\"Masukkan nilai UTS: \"))\n",
        "uas = float(input(\"Masukkan nilai UAS: \"))\n",
        "\n",
        "standar_kelulusan = float(input(\"Masukkan standar kelulusan: \"))\n",
        "nilai_mahasiswa = (0.3 * tugas) + (0.3 * uts) + (0.4 * uas)\n",
        "\n",
        "# Tentukan status kelulusan\n",
        "apakah_lulus = nilai_mahasiswa >= standar_kelulusan\n",
        "perlu_remedial = nilai_mahasiswa < standar_kelulusan\n",
        "\n",
        "# Output hasil\n",
        "print(\"\\n=== Hasil Penilaian ===\")\n",
        "print(f\"Nilai Mahasiswa: {nilai_mahasiswa}\")\n",
        "print(f\"Standar Kelulusan: {standar_kelulusan}\")\n",
        "print(f\"Apakah Mahasiswa Lulus? {apakah_lulus}\")\n",
        "print(f\"Perlu Remedial? {perlu_remedial}\")"
      ],
      "metadata": {
        "colab": {
          "base_uri": "https://localhost:8080/"
        },
        "id": "6PrUEoiv7pTE",
        "outputId": "5aea8a70-caba-4ae8-83a7-308a07a82446"
      },
      "execution_count": null,
      "outputs": [
        {
          "output_type": "stream",
          "name": "stdout",
          "text": [
            "Masukkan nilai Tugas: 88\n",
            "Masukkan nilai UTS: 87\n",
            "Masukkan nilai UAS: 88\n",
            "Masukkan standar kelulusan: 70\n",
            "\n",
            "=== Hasil Penilaian ===\n",
            "Nilai Mahasiswa: 87.7\n",
            "Standar Kelulusan: 70.0\n",
            "Apakah Mahasiswa Lulus? True\n",
            "Perlu Remedial? False\n"
          ]
        }
      ]
    },
    {
      "cell_type": "code",
      "source": [
        "# Input total belanja dari keyboard\n",
        "belanja = int(input(\"Masukkan total belanja: \"))\n",
        "\n",
        "# Tentukan diskon\n",
        "if belanja > 1000000:\n",
        "    diskon = 0.35 * belanja\n",
        "\n",
        "else:\n",
        "    diskon = 0  # tidak ada diskon jika <= 1 juta\n",
        "\n",
        "# Hitung total harga\n",
        "total_harga = belanja - diskon\n",
        "\n",
        "# Output hasil\n",
        "print(f\"Total belanja: Rp {belanja}\")\n",
        "print(f\"Diskon: Rp {diskon}\")\n",
        "print(f\"Total harga setelah diskon = Rp {total_harga}\")"
      ],
      "metadata": {
        "colab": {
          "base_uri": "https://localhost:8080/"
        },
        "id": "i2q_q34gGIi0",
        "outputId": "8b13c945-8010-4e3a-d095-3fdad71e9403"
      },
      "execution_count": null,
      "outputs": [
        {
          "output_type": "stream",
          "name": "stdout",
          "text": [
            "Masukkan total belanja: 2500000\n",
            "Total belanja: Rp 2500000\n",
            "Diskon: Rp 875000.0\n",
            "Total harga setelah diskon = Rp 1625000.0\n"
          ]
        }
      ]
    }
  ]
}
