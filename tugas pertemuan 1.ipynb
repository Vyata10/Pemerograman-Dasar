{
  "nbformat": 4,
  "nbformat_minor": 0,
  "metadata": {
    "colab": {
      "provenance": [],
      "authorship_tag": "ABX9TyORksRPcTGcctf2g2xYcpXl",
      "include_colab_link": true
    },
    "kernelspec": {
      "name": "python3",
      "display_name": "Python 3"
    },
    "language_info": {
      "name": "python"
    }
  },
  "cells": [
    {
      "cell_type": "markdown",
      "metadata": {
        "id": "view-in-github",
        "colab_type": "text"
      },
      "source": [
        "<a href=\"https://colab.research.google.com/github/Vyata10/Pemerograman-Dasar/blob/main/tugas%20pertemuan%20pertama.ipynb\" target=\"_parent\"><img src=\"https://colab.research.google.com/assets/colab-badge.svg\" alt=\"Open In Colab\"/></a>"
      ]
    },
    {
      "cell_type": "code",
      "execution_count": 15,
      "metadata": {
        "colab": {
          "base_uri": "https://localhost:8080/"
        },
        "id": "v9DsAlmm7jTM",
        "outputId": "a533bac3-7c77-41a7-a113-73855a626e35"
      },
      "outputs": [
        {
          "output_type": "stream",
          "name": "stdout",
          "text": [
            "Raymon Mikhael Silitonga\n",
            "25\n",
            "Batam\n",
            "04-10-2000\n",
            "170\n",
            "73.7\n",
            "badminton,baca novel\n",
            "RPE\n",
            "3\n",
            "Pemerograman Dasar\n",
            "poltek batam\n",
            "False\n"
          ]
        }
      ],
      "source": [
        "# Biodata Saya\n",
        "\n",
        "nama =\"Raymon Mikhael Silitonga\"\n",
        "umur = 25\n",
        "tempat_lahir = \"Batam\"\n",
        "tanggal_lahir = \"04-10-2000\"\n",
        "tinggi_badan = 170 #dalam cm\n",
        "berat_badan = 73.7 #dalam kg\n",
        "hobi = \"badminton,baca novel\"\n",
        "jurusan = \"RPE\"\n",
        "semester = 3\n",
        "matakuliah = \"Pemerograman Dasar\"\n",
        "asal_kampus = \"poltek batam\"\n",
        "status_lulus = False\n",
        "\n",
        "\n",
        "print (nama)\n",
        "print (umur)\n",
        "print (tempat_lahir)\n",
        "print (tanggal_lahir)\n",
        "print (tinggi_badan)\n",
        "print (berat_badan)\n",
        "print (hobi)\n",
        "print (jurusan)\n",
        "print (semester)\n",
        "print (matakuliah)\n",
        "print (asal_kampus)\n",
        "print (status_lulus)"
      ]
    }
  ]
}
