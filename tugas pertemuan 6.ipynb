{
  "nbformat": 4,
  "nbformat_minor": 0,
  "metadata": {
    "colab": {
      "provenance": [],
      "authorship_tag": "ABX9TyOm30T88tzx0f0PJO+umf7T",
      "include_colab_link": true
    },
    "kernelspec": {
      "name": "python3",
      "display_name": "Python 3"
    },
    "language_info": {
      "name": "python"
    }
  },
  "cells": [
    {
      "cell_type": "markdown",
      "metadata": {
        "id": "view-in-github",
        "colab_type": "text"
      },
      "source": [
        "<a href=\"https://colab.research.google.com/github/Vyata10/Pemerograman-Dasar/blob/main/tugas%20pertemuan%206.ipynb\" target=\"_parent\"><img src=\"https://colab.research.google.com/assets/colab-badge.svg\" alt=\"Open In Colab\"/></a>"
      ]
    },
    {
      "cell_type": "code",
      "execution_count": null,
      "metadata": {
        "id": "czUAotGiQene",
        "colab": {
          "base_uri": "https://localhost:8080/"
        },
        "outputId": "039455e1-3a59-4377-fca0-b0cb4f362e9d"
      },
      "outputs": [
        {
          "output_type": "stream",
          "name": "stdout",
          "text": [
            "Sistem siap. Selamat datang kembali di sesi praktikum, Raymon Silitonga!\n"
          ]
        }
      ],
      "source": [
        "def sapa_praktikan(nama):\n",
        "    \"\"\"Mencetak pesan sambutan dasar.\"\"\"\n",
        "    print(\"Sistem siap. Selamat datang kembali di sesi praktikum,\", nama + \"!\")\n",
        "\n",
        "# Pemanggilan fungsi sapa_praktikan\n",
        "sapa_praktikan(\"Raymon Silitonga\")"
      ]
    },
    {
      "cell_type": "code",
      "source": [
        "def sapa_praktikan(nama):\n",
        "    \"\"\"Mencetak pesan sambutan dasar.\"\"\"\n",
        "    print(\"Sistem siap. Selamat datang kembali di sesi praktikum,\", nama + \"!\")\n",
        "\n",
        "\n",
        "def Biodata(nama, nim, jurusan, universitas, umur, tempat_lahir, tanggal_lahir):\n",
        "    \"\"\"Menampilkan biodata lengkap praktikan.\"\"\"\n",
        "    print(\"\\n=== BIODATA PRAKTIKAN ===\")\n",
        "    print(\"Nama          :\", nama)\n",
        "    print(\"NIM           :\", nim)\n",
        "    print(\"Jurusan       :\", jurusan)\n",
        "    print(\"Universitas   :\", universitas)\n",
        "    print(\"Umur          :\", umur)\n",
        "    print(\"Tempat Lahir  :\", tempat_lahir)\n",
        "    print(\"Tanggal Lahir :\", tanggal_lahir)\n",
        "    print(\"===========================\")\n",
        "\n",
        "\n",
        "sapa_praktikan(\"Raymon Silitonga\")\n",
        "Biodata(\n",
        "    nama=\"Raymon Silitonga\",\n",
        "    nim=\"4232411018\",\n",
        "    jurusan=\"Teknik Elektro\",\n",
        "    universitas=\"Politeknik Negeri Batam\",\n",
        "    umur=\"25\",\n",
        "    tempat_lahir=\"Batam\",\n",
        "    tanggal_lahir=\"04 Oktober 2000\"\n",
        ")"
      ],
      "metadata": {
        "colab": {
          "base_uri": "https://localhost:8080/"
        },
        "id": "p6uNpF0vK2Sq",
        "outputId": "37729fda-1953-4da6-dbfa-e606f0d45977"
      },
      "execution_count": null,
      "outputs": [
        {
          "output_type": "stream",
          "name": "stdout",
          "text": [
            "Sistem siap. Selamat datang kembali di sesi praktikum, Raymon Silitonga!\n",
            "\n",
            "=== BIODATA PRAKTIKAN ===\n",
            "Nama          : Raymon Silitonga\n",
            "NIM           : 4232411018\n",
            "Jurusan       : Teknik Elektro\n",
            "Universitas   : Politeknik Negeri Batam\n",
            "Umur          : 25\n",
            "Tempat Lahir  : Batam\n",
            "Tanggal Lahir : 04 Oktober 2000\n",
            "===========================\n"
          ]
        }
      ]
    },
    {
      "cell_type": "code",
      "source": [
        "def hitung_volume_kubus(sisi):\n",
        "    \"\"\"Menghitung volume kubus dari panjang sisinya.\"\"\"\n",
        "    return sisi ** 3   # volume kubus = sisi × sisi × sisi\n",
        "\n",
        "# Pemanggilan:\n",
        "panjang_sisi = 5\n",
        "print(f\"Volume kubus dengan sisi {panjang_sisi} adalah: {hitung_volume_kubus(panjang_sisi)}\")"
      ],
      "metadata": {
        "colab": {
          "base_uri": "https://localhost:8080/"
        },
        "id": "vV4kTreePBv3",
        "outputId": "6fac441c-836e-4ef7-a626-b7d1fed17bd2"
      },
      "execution_count": null,
      "outputs": [
        {
          "output_type": "stream",
          "name": "stdout",
          "text": [
            "Volume kubus dengan sisi 5 adalah: 125\n"
          ]
        }
      ]
    },
    {
      "cell_type": "code",
      "source": [
        "def hitung_volume_balok(panjang, lebar, tinggi):\n",
        "    \"\"\"Menghitung volume balok dari panjang, lebar, dan tinggi.\"\"\"\n",
        "    return panjang * lebar * tinggi\n",
        "\n",
        "# Pemanggilan:\n",
        "p = 10\n",
        "l = 6\n",
        "t = 4\n",
        "print(f\"Volume balok dengan ukuran {p} x {l} x {t} adalah: {hitung_volume_balok(p, l, t)}\")"
      ],
      "metadata": {
        "colab": {
          "base_uri": "https://localhost:8080/"
        },
        "id": "gzZlupY9QFFO",
        "outputId": "9ec71873-d91e-40c8-d680-9141aee0437c"
      },
      "execution_count": null,
      "outputs": [
        {
          "output_type": "stream",
          "name": "stdout",
          "text": [
            "Volume balok dengan ukuran 10 x 6 x 4 adalah: 240\n"
          ]
        }
      ]
    },
    {
      "cell_type": "code",
      "source": [
        "def hitung_rata_rata(data_nilai):\n",
        "    \"\"\"Menghitung rata-rata dari list angka menggunakan perulangan for.\"\"\"\n",
        "    total = 0\n",
        "\n",
        "    # Perulangan untuk menjumlahkan nilai\n",
        "    for nilai in data_nilai:\n",
        "        total += nilai\n",
        "\n",
        "    # Pembagian untuk rata-rata\n",
        "    if total > 0:\n",
        "        return total / len(data_nilai)\n",
        "    return 0\n",
        "\n",
        "# Pemanggilan:\n",
        "nilai_praktikan = [85, 78, 92, 65, 90]\n",
        "print(f\"Nilai rata-rata kelas adalah: {hitung_rata_rata(nilai_praktikan)}\")"
      ],
      "metadata": {
        "colab": {
          "base_uri": "https://localhost:8080/"
        },
        "id": "jWyPJuYHUiD3",
        "outputId": "e4533623-ab77-48ff-ab24-6539e8280752"
      },
      "execution_count": null,
      "outputs": [
        {
          "output_type": "stream",
          "name": "stdout",
          "text": [
            "Nilai rata-rata kelas adalah: 82.0\n"
          ]
        }
      ]
    },
    {
      "cell_type": "code",
      "source": [
        "def hitung_rata_rata(data_nilai):\n",
        "    \"\"\"Menghitung rata-rata dari list angka dengan validasi nilai.\"\"\"\n",
        "    total = 0\n",
        "    jumlah_data = 0\n",
        "\n",
        "    # Perulangan untuk menjumlahkan nilai\n",
        "    for nilai in data_nilai:\n",
        "        # Pengecekan nilai valid\n",
        "        if 0 <= nilai <= 100:\n",
        "            total += nilai\n",
        "            jumlah_data += 1\n",
        "        else:\n",
        "            print(f\"⚠️ Nilai {nilai} diabaikan (tidak valid).\")\n",
        "\n",
        "    # Pembagian untuk rata-rata\n",
        "    if jumlah_data > 0:\n",
        "        return total / jumlah_data\n",
        "    return 0\n",
        "\n",
        "# Pemanggilan:\n",
        "nilai_praktikan = [85, -5, 120, 78, 92, 65, 90]\n",
        "print(f\"Nilai rata-rata kelas adalah: {hitung_rata_rata(nilai_praktikan)}\")"
      ],
      "metadata": {
        "colab": {
          "base_uri": "https://localhost:8080/"
        },
        "id": "f-3fvvNCYyul",
        "outputId": "df029d2f-8f8d-4551-9dff-cd2867bd427e"
      },
      "execution_count": null,
      "outputs": [
        {
          "output_type": "stream",
          "name": "stdout",
          "text": [
            "⚠️ Nilai -5 diabaikan (tidak valid).\n",
            "⚠️ Nilai 120 diabaikan (tidak valid).\n",
            "Nilai rata-rata kelas adalah: 82.0\n"
          ]
        }
      ]
    },
    {
      "cell_type": "code",
      "source": [
        "def tentukan_predikat(skor):\n",
        "    \"\"\"Menentukan predikat (A, B, C, D, E) berdasarkan skor.\"\"\"\n",
        "    if skor >= 85:\n",
        "        return \"A\"\n",
        "    elif skor >= 70:\n",
        "        return \"B\"\n",
        "    elif skor >= 60:\n",
        "        return \"C\"\n",
        "    elif skor >= 50:\n",
        "        return \"D\"\n",
        "    else:\n",
        "        return \"E\"\n",
        "\n",
        "# Pemanggilan:\n",
        "print(f\"Skor 75 mendapat predikat: {tentukan_predikat(75)}\")\n",
        "print(f\"Skor 48 mendapat predikat: {tentukan_predikat(48)}\")"
      ],
      "metadata": {
        "colab": {
          "base_uri": "https://localhost:8080/"
        },
        "id": "gVHeR1-aZ2Wi",
        "outputId": "c9662cb6-e44f-4242-d93f-2bc7710e1264"
      },
      "execution_count": null,
      "outputs": [
        {
          "output_type": "stream",
          "name": "stdout",
          "text": [
            "Skor 75 mendapat predikat: B\n",
            "Skor 48 mendapat predikat: E\n"
          ]
        }
      ]
    },
    {
      "cell_type": "code",
      "source": [
        "print(f\"Skor 85 mendapat predikat: {tentukan_predikat(85)}\")\n",
        "print(f\"Skor 55 mendapat predikat: {tentukan_predikat(55)}\")"
      ],
      "metadata": {
        "colab": {
          "base_uri": "https://localhost:8080/"
        },
        "id": "JEcf_FshaAhB",
        "outputId": "5397324b-31f8-4316-923c-a585ab7aeddb"
      },
      "execution_count": null,
      "outputs": [
        {
          "output_type": "stream",
          "name": "stdout",
          "text": [
            "Skor 85 mendapat predikat: A\n",
            "Skor 55 mendapat predikat: D\n"
          ]
        }
      ]
    },
    {
      "cell_type": "code",
      "source": [
        "def tentukan_predikat(skor):\n",
        "    \"\"\"Menentukan predikat (A, B, C, D, E) berdasarkan skor dengan validasi tipe data.\"\"\"\n",
        "\n",
        "    # Pengecekan tipe data\n",
        "    if not isinstance(skor, (int, float)):\n",
        "        return \"Input tidak valid! Skor harus berupa angka.\"\n",
        "\n",
        "    # Logika penentuan predikat\n",
        "    if skor >= 85:\n",
        "        return \"A\"\n",
        "    elif skor >= 70:\n",
        "        return \"B\"\n",
        "    elif skor >= 60:\n",
        "        return \"C\"\n",
        "    elif skor >= 50:\n",
        "        return \"D\"\n",
        "    else:\n",
        "        return \"E\"\n",
        "\n",
        "# Pemanggilan:\n",
        "print(f\"Skor 75 mendapat predikat: {tentukan_predikat(75)}\")\n",
        "print(f\"Skor 48 mendapat predikat: {tentukan_predikat(48)}\")\n",
        "print(f\"Skor 'bagus' mendapat predikat: {tentukan_predikat('bagus')}\")"
      ],
      "metadata": {
        "colab": {
          "base_uri": "https://localhost:8080/"
        },
        "id": "o2U8WActclZa",
        "outputId": "7b8307c2-c271-47a8-dea8-675c725be0bb"
      },
      "execution_count": null,
      "outputs": [
        {
          "output_type": "stream",
          "name": "stdout",
          "text": [
            "Skor 75 mendapat predikat: B\n",
            "Skor 48 mendapat predikat: E\n",
            "Skor 'bagus' mendapat predikat: Input tidak valid! Skor harus berupa angka.\n"
          ]
        }
      ]
    },
    {
      "cell_type": "code",
      "source": [
        "def hitung_faktorial(n):\n",
        "    \"\"\"Menghitung faktorial dari bilangan positif n.\"\"\"\n",
        "    hasil = 1\n",
        "\n",
        "    # Perulangan berjalan selama n lebih besar dari 1\n",
        "    while n > 1:\n",
        "        hasil *= n\n",
        "        n -= 1  # Kurangi n setiap iterasi\n",
        "    return hasil\n",
        "\n",
        "# Pemanggilan:\n",
        "bilangan_n = 4\n",
        "print(f\"Faktorial dari {bilangan_n} adalah: {hitung_faktorial(bilangan_n)}\")"
      ],
      "metadata": {
        "colab": {
          "base_uri": "https://localhost:8080/"
        },
        "id": "zHMY5oTFC6vO",
        "outputId": "0752fba7-56ea-4a80-fe5a-b994309b2603"
      },
      "execution_count": 1,
      "outputs": [
        {
          "output_type": "stream",
          "name": "stdout",
          "text": [
            "Faktorial dari 4 adalah: 24\n"
          ]
        }
      ]
    },
    {
      "cell_type": "code",
      "source": [
        " def hitung_faktorial(n):\n",
        "\n",
        "  # Kasus jika n negatif\n",
        "    if n < 0:\n",
        "        return \"Faktorial tidak dapat dihitung untuk bilangan negatif!\"\n",
        "\n",
        "    # Kasus khusus n = 0 (secara definisi 0! = 1)\n",
        "    if n == 0:\n",
        "        return 1\n",
        "\n",
        "    hasil = 1\n",
        "    # Perulangan berjalan selama n lebih besar dari 1\n",
        "    while n > 1:\n",
        "        hasil *= n\n",
        "        n -= 1  # Kurangi n setiap iterasi\n",
        "    return hasil\n",
        "\n",
        "# Pemanggilan:\n",
        "print(f\"Faktorial dari 4 adalah: {hitung_faktorial(4)}\")\n",
        "print(f\"Faktorial dari 0 adalah: {hitung_faktorial(0)}\")\n",
        "print(f\"Faktorial dari -3 adalah: {hitung_faktorial(-3)}\")"
      ],
      "metadata": {
        "colab": {
          "base_uri": "https://localhost:8080/"
        },
        "id": "opPT2kV_JgT0",
        "outputId": "d99a2c68-5303-44cc-8400-d5f47ffef8fc"
      },
      "execution_count": 3,
      "outputs": [
        {
          "output_type": "stream",
          "name": "stdout",
          "text": [
            "Faktorial dari 4 adalah: 24\n",
            "Faktorial dari 0 adalah: 1\n",
            "Faktorial dari -3 adalah: Faktorial tidak dapat dihitung untuk bilangan negatif!\n"
          ]
        }
      ]
    },
    {
      "cell_type": "code",
      "source": [
        "def analisis_suhu(data_suhu):\n",
        "    \"\"\"Menghitung jumlah hari Panas dan Dingin dari data_suhu.\"\"\"\n",
        "    panas_count = 0\n",
        "    dingin_count = 0  # Inisialisasi penghitung hari dingin\n",
        "\n",
        "    for suhu in data_suhu:\n",
        "        if suhu >= 35:\n",
        "            panas_count += 1\n",
        "        elif suhu <= 15:\n",
        "            dingin_count += 1\n",
        "\n",
        "    return panas_count, dingin_count\n",
        "\n",
        "# Pemanggilan:\n",
        "suhu_mingguan = [36, 30, 14, 25, 38, 16, 28]\n",
        "jumlah_panas, jumlah_dingin = analisis_suhu(suhu_mingguan)\n",
        "print(f\"Jumlah hari Panas (>=35°C): {jumlah_panas}\")\n",
        "print(f\"Jumlah hari Dingin (<=15°C): {jumlah_dingin}\")"
      ],
      "metadata": {
        "colab": {
          "base_uri": "https://localhost:8080/"
        },
        "id": "6BfCxLFwRoWj",
        "outputId": "7706bafa-3f01-4a0d-c4c2-9aabcd2f3ca5"
      },
      "execution_count": 4,
      "outputs": [
        {
          "output_type": "stream",
          "name": "stdout",
          "text": [
            "Jumlah hari Panas (>=35°C): 2\n",
            "Jumlah hari Dingin (<=15°C): 1\n"
          ]
        }
      ]
    },
    {
      "cell_type": "code",
      "source": [
        "# Pemanggilan dengan nilai default\n",
        "suhu_mingguan = [36, 30, 14, 25, 38, 16, 28]\n",
        "jumlah_panas, jumlah_dingin = analisis_suhu(suhu_mingguan)\n",
        "print(f\"Jumlah hari Panas (>=35°C): {jumlah_panas}\")\n",
        "print(f\"Jumlah hari Dingin (<=15°C): {jumlah_dingin}\")\n",
        "\n",
        "# Pemanggilan dengan batas suhu berbeda\n",
        "jumlah_panas2, jumlah_dingin2 = analisis_suhu(suhu_mingguan, batas_panas=33, batas_dingin=18)\n",
        "print(f\"\\n[Pengaturan baru] Jumlah hari Panas (>=33°C): {jumlah_panas2}\")\n",
        "print(f\"[Pengaturan baru] Jumlah hari Dingin (<=18°C): {jumlah_dingin2}\")"
      ],
      "metadata": {
        "colab": {
          "base_uri": "https://localhost:8080/"
        },
        "id": "PBoxJa8zUQRb",
        "outputId": "9904c549-8f9c-4f78-8da0-266dfd93c03a"
      },
      "execution_count": 6,
      "outputs": [
        {
          "output_type": "stream",
          "name": "stdout",
          "text": [
            "Jumlah hari Panas (>=35°C): 2\n",
            "Jumlah hari Dingin (<=15°C): 1\n",
            "\n",
            "[Pengaturan baru] Jumlah hari Panas (>=33°C): 2\n",
            "[Pengaturan baru] Jumlah hari Dingin (<=18°C): 2\n"
          ]
        }
      ]
    }
  ]
}