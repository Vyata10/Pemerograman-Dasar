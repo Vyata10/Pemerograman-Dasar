{
  "nbformat": 4,
  "nbformat_minor": 0,
  "metadata": {
    "colab": {
      "provenance": [],
      "authorship_tag": "ABX9TyPZViziDaS6QjdnNSe99afK",
      "include_colab_link": true
    },
    "kernelspec": {
      "name": "python3",
      "display_name": "Python 3"
    },
    "language_info": {
      "name": "python"
    }
  },
  "cells": [
    {
      "cell_type": "markdown",
      "metadata": {
        "id": "view-in-github",
        "colab_type": "text"
      },
      "source": [
        "<a href=\"https://colab.research.google.com/github/Vyata10/Pemerograman-Dasar/blob/main/latihan.ipynb\" target=\"_parent\"><img src=\"https://colab.research.google.com/assets/colab-badge.svg\" alt=\"Open In Colab\"/></a>"
      ]
    },
    {
      "cell_type": "code",
      "execution_count": 12,
      "metadata": {
        "colab": {
          "base_uri": "https://localhost:8080/"
        },
        "id": "IGebq_6kI-WI",
        "outputId": "58cc1b41-625f-4b59-a548-f5e7593679bf"
      },
      "outputs": [
        {
          "output_type": "stream",
          "name": "stdout",
          "text": [
            "Masukkan tahun: 2008\n",
            "Tahun 2008 adalah tahun kabisat\n"
          ]
        }
      ],
      "source": [
        "# Fungsi untuk mengecek tahun kabisat\n",
        "def cek_tahun_kabisat(tahun):\n",
        "    if (tahun % 4 == 0 and tahun % 100 != 0) or (tahun % 400 == 0):\n",
        "        return True\n",
        "    else:\n",
        "        return False\n",
        "\n",
        "def main():\n",
        "    tahun = int(input(\"Masukkan tahun: \"))\n",
        "\n",
        "    if cek_tahun_kabisat(tahun):\n",
        "        print(f\"Tahun {tahun} adalah tahun kabisat\")\n",
        "    else:\n",
        "        print(f\"Tahun {tahun} bukan tahun kabisat\")\n",
        "\n",
        "main()"
      ]
    }
  ]
}
