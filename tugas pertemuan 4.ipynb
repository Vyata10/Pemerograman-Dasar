{
  "nbformat": 4,
  "nbformat_minor": 0,
  "metadata": {
    "colab": {
      "provenance": [],
      "authorship_tag": "ABX9TyMiKtfmqd1RwkasqeZDPu9s",
      "include_colab_link": true
    },
    "kernelspec": {
      "name": "python3",
      "display_name": "Python 3"
    },
    "language_info": {
      "name": "python"
    }
  },
  "cells": [
    {
      "cell_type": "markdown",
      "metadata": {
        "id": "view-in-github",
        "colab_type": "text"
      },
      "source": [
        "<a href=\"https://colab.research.google.com/github/Vyata10/Pemerograman-Dasar/blob/main/tugas%20pertemuan%204.ipynb\" target=\"_parent\"><img src=\"https://colab.research.google.com/assets/colab-badge.svg\" alt=\"Open In Colab\"/></a>"
      ]
    },
    {
      "cell_type": "code",
      "source": [
        "print(\"-\" * 35)\n",
        "print(\"SELAMAT DATANG DI KAFE BLOOMER\")\n",
        "print(\"-\" * 35)\n",
        "\n",
        "print(\"Menu Makanan & Minuman:\")\n",
        "print(\"1. Kopi Hitam   - Rp 15.000\")\n",
        "print(\"2. Teh Manis    - Rp 10.000\")\n",
        "print(\"3. Roti Bakar   - Rp 18.000\")\n",
        "print(\"4. Mie Instan   - Rp 12.000\")\n",
        "print(\"-\" * 35)\n",
        "\n",
        "# Pesan item pertama\n",
        "pilihan1 = int(input(\"Masukkan nomor pilihan pertama (1-4): \"))\n",
        "if pilihan1 == 1:\n",
        "    harga1 = 15000\n",
        "elif pilihan1 == 2:\n",
        "    harga1 = 10000\n",
        "elif pilihan1 == 3:\n",
        "    harga1 = 18000\n",
        "elif pilihan1 == 4:\n",
        "    harga1 = 12000\n",
        "else:\n",
        "    harga1 = 0\n",
        "jumlah1 = int(input(\"Berapa porsi? \"))\n",
        "total1 = harga1 * jumlah1\n",
        "\n",
        "# Pesan item kedua\n",
        "pilihan2 = int(input(\"Masukkan nomor pilihan kedua (1-4): \"))\n",
        "if pilihan2 == 1:\n",
        "    harga2 = 15000\n",
        "elif pilihan2 == 2:\n",
        "    harga2 = 10000\n",
        "elif pilihan2 == 3:\n",
        "    harga2 = 18000\n",
        "elif pilihan2 == 4:\n",
        "    harga2 = 12000\n",
        "else:\n",
        "    harga2 = 0\n",
        "jumlah2 = int(input(\"Berapa porsi? \"))\n",
        "total2 = harga2 * jumlah2\n",
        "\n",
        "# Pesan item ketiga\n",
        "pilihan3 = int(input(\"Masukkan nomor pilihan ketiga (1-4): \"))\n",
        "if pilihan3 == 1:\n",
        "    harga3 = 15000\n",
        "elif pilihan3 == 2:\n",
        "    harga3 = 10000\n",
        "elif pilihan3 == 3:\n",
        "    harga3 = 18000\n",
        "elif pilihan3 == 4:\n",
        "    harga3 = 12000\n",
        "else:\n",
        "    harga3 = 0\n",
        "jumlah3 = int(input(\"Berapa porsi? \"))\n",
        "total3 = harga3 * jumlah3\n",
        "\n",
        "# Total keseluruhan\n",
        "total_harga = total1 + total2 + total3\n",
        "\n",
        "print(\"-\" * 35)\n",
        "print(f\"Total belanja sebelum diskon: Rp {total_harga}\")\n",
        "\n",
        "# ====== Diskon ======\n",
        "if total_harga >= 70000:\n",
        "    diskon = 0.7\n",
        "elif total_harga >= 40000:\n",
        "    diskon = 0.5\n",
        "elif total_harga >= 20000:\n",
        "    diskon = 0.3\n",
        "else:\n",
        "    diskon = 0\n",
        "\n",
        "potongan = total_harga * diskon\n",
        "total_bayar = total_harga - potongan\n",
        "\n",
        "print(f\"Diskon yang didapat: {diskon * 100:.0f}%\")\n",
        "print(f\"Total yang harus dibayar: Rp {total_bayar:.0f}\")\n",
        "print(\"-\" * 35)\n",
        "print(\"Terima kasih sudah berbelanja di Kafe Bloomer!\")\n",
        "print(\"-\" * 35)"
      ],
      "metadata": {
        "colab": {
          "base_uri": "https://localhost:8080/"
        },
        "id": "9JOnkugUc1dY",
        "outputId": "41ead6f2-19da-49f3-8792-15e1eaabd369"
      },
      "execution_count": 9,
      "outputs": [
        {
          "output_type": "stream",
          "name": "stdout",
          "text": [
            "-----------------------------------\n",
            "SELAMAT DATANG DI KAFE BLOOMER\n",
            "-----------------------------------\n",
            "Menu Makanan & Minuman:\n",
            "1. Kopi Hitam   - Rp 15.000\n",
            "2. Teh Manis    - Rp 10.000\n",
            "3. Roti Bakar   - Rp 18.000\n",
            "4. Mie Instan   - Rp 12.000\n",
            "-----------------------------------\n",
            "Masukkan nomor pilihan pertama (1-4): 1\n",
            "Berapa porsi? 3\n",
            "Masukkan nomor pilihan kedua (1-4): 3\n",
            "Berapa porsi? 2\n",
            "Masukkan nomor pilihan ketiga (1-4): 0\n",
            "Berapa porsi? 0\n",
            "-----------------------------------\n",
            "Total belanja sebelum diskon: Rp 81000\n",
            "Diskon yang didapat: 70%\n",
            "Total yang harus dibayar: Rp 24300\n",
            "-----------------------------------\n",
            "Terima kasih sudah berbelanja di Kafe Bloomer!\n",
            "-----------------------------------\n"
          ]
        }
      ]
    }
  ]
}